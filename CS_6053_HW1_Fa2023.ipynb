{
  "nbformat": 4,
  "nbformat_minor": 0,
  "metadata": {
    "colab": {
      "provenance": []
    },
    "kernelspec": {
      "name": "python3",
      "display_name": "Python 3"
    },
    "language_info": {
      "name": "python"
    }
  },
  "cells": [
    {
      "cell_type": "markdown",
      "source": [
        "# **Foundations of Data Science Fall 2022 - Homework 1 (32 points)**\n",
        "\n",
        "### Student Name: Stuti Mishra\n",
        "### Student Net Id: sm11538\n",
        "\n",
        "---\n",
        "\n"
      ],
      "metadata": {
        "id": "UVi0YPMvUjwg"
      }
    },
    {
      "cell_type": "markdown",
      "source": [
        "### **Part 0: Data Exploration and Linear Regression (5 Points)**\n",
        "\n",
        "---\n"
      ],
      "metadata": {
        "id": "ie52W18UUlMB"
      }
    },
    {
      "cell_type": "markdown",
      "source": [
        "Background: This problem focuses on an ECG dataset that contains voltage measurements from a number of points on the scalp. A common task is to estimate which parts of the brain caused the measured response, which can help identify which parts of the brain are involved in specific tasks. However, the number of possible locations in the brain is much larger than the number of measurements, which makes this an appropriate task to assess the use of regularization to determine the brain region that is active under stimulus.\n"
      ],
      "metadata": {
        "id": "uUBNYxVIjh4X"
      }
    },
    {
      "cell_type": "code",
      "source": [
        "# Importing all important packages\n",
        "\n",
        "import numpy as np\n",
        "import pandas as pd\n",
        "import matplotlib.pyplot as plt\n",
        "\n",
        "from sklearn.linear_model import Lasso, Ridge\n",
        "from sklearn.metrics import r2_score\n",
        "from sklearn.model_selection import train_test_split"
      ],
      "metadata": {
        "id": "gC9WIPo7U3JD"
      },
      "execution_count": null,
      "outputs": []
    },
    {
      "cell_type": "code",
      "source": [
        "# Downloading data\n",
        "\n",
        "fn_src ='https://drive.google.com/uc?export=download&id=1RzQpKONOcXSMxH2ZzOI4iVMiTgD6ttSl'\n",
        "fn_dst ='eeg_dat.p'\n",
        "\n",
        "import os\n",
        "from six.moves import urllib\n",
        "\n",
        "if os.path.isfile(fn_dst):\n",
        "    print('File %s is already downloaded' % fn_dst)\n",
        "else:\n",
        "    print('Fetching file %s [53MB].  This may take a minute..' % fn_dst)\n",
        "    urllib.request.urlretrieve(fn_src, fn_dst)\n",
        "    print('File %s downloaded' % fn_dst)"
      ],
      "metadata": {
        "colab": {
          "base_uri": "https://localhost:8080/"
        },
        "id": "PkPvRr0a-Sr8",
        "outputId": "e52e1a96-09fe-4ee3-8867-1a12a86e26e4"
      },
      "execution_count": null,
      "outputs": [
        {
          "output_type": "stream",
          "name": "stdout",
          "text": [
            "File eeg_dat.p is already downloaded\n"
          ]
        }
      ]
    },
    {
      "cell_type": "code",
      "source": [
        "# Loading data\n",
        "\n",
        "import pickle\n",
        "fn = 'eeg_dat.p'\n",
        "with open(fn, 'rb') as fp:\n",
        "    [X,Y] = pickle.load(fp)"
      ],
      "metadata": {
        "id": "zu_NFpHx-ZPh"
      },
      "execution_count": null,
      "outputs": []
    },
    {
      "cell_type": "markdown",
      "source": [
        ">>**1**\\. **(1 Point)** *Display the first 5 rows of X and Y and print the dimensions for both datasets*\n",
        "\n"
      ],
      "metadata": {
        "id": "CtBimafqe5GH"
      }
    },
    {
      "cell_type": "code",
      "source": [
        "print(\"First 5 rows of X:\")\n",
        "print(X[:5])\n",
        "\n",
        "# Display the dimensions of X\n",
        "print(\"Dimensions of X:\", X.shape)\n",
        "\n",
        "# Display the first 5 rows of Y\n",
        "print(\"\\nFirst 5 rows of Y:\")\n",
        "print(Y[:5])\n",
        "\n",
        "# Display the dimensions of Y\n",
        "print(\"Dimensions of Y:\", Y.shape)"
      ],
      "metadata": {
        "id": "umxMgyXsU7Tw",
        "colab": {
          "base_uri": "https://localhost:8080/"
        },
        "outputId": "9401c16c-59f5-4f0e-ce84-a9946f6e574c"
      },
      "execution_count": null,
      "outputs": [
        {
          "output_type": "stream",
          "name": "stdout",
          "text": [
            "First 5 rows of X:\n",
            "[[ 0.          0.          0.         ...  0.          0.\n",
            "   0.        ]\n",
            " [ 0.          0.          0.         ...  0.          0.\n",
            "   0.        ]\n",
            " [ 0.          0.          0.         ...  0.          0.\n",
            "   0.        ]\n",
            " [-0.00529827  0.00491268  0.00598048 ...  0.00162549 -0.0023215\n",
            "   0.00115952]\n",
            " [-0.01522969  0.00059051 -0.00191475 ...  0.00331738 -0.00214887\n",
            "   0.00160143]]\n",
            "Dimensions of X: (305, 22494)\n",
            "\n",
            "First 5 rows of Y:\n",
            "[[ 0.          0.          0.          0.          0.          0.\n",
            "   0.          0.          0.          0.          0.          0.\n",
            "   0.          0.          0.          0.          0.          0.\n",
            "   0.          0.          0.          0.          0.          0.\n",
            "   0.          0.          0.          0.          0.          0.\n",
            "   0.          0.          0.          0.          0.          0.\n",
            "   0.          0.          0.          0.          0.          0.\n",
            "   0.          0.          0.          0.          0.          0.\n",
            "   0.          0.          0.          0.          0.          0.\n",
            "   0.          0.          0.          0.          0.          0.\n",
            "   0.          0.          0.          0.          0.          0.\n",
            "   0.          0.          0.          0.          0.          0.\n",
            "   0.          0.          0.          0.          0.          0.\n",
            "   0.          0.          0.          0.          0.          0.\n",
            "   0.        ]\n",
            " [ 0.          0.          0.          0.          0.          0.\n",
            "   0.          0.          0.          0.          0.          0.\n",
            "   0.          0.          0.          0.          0.          0.\n",
            "   0.          0.          0.          0.          0.          0.\n",
            "   0.          0.          0.          0.          0.          0.\n",
            "   0.          0.          0.          0.          0.          0.\n",
            "   0.          0.          0.          0.          0.          0.\n",
            "   0.          0.          0.          0.          0.          0.\n",
            "   0.          0.          0.          0.          0.          0.\n",
            "   0.          0.          0.          0.          0.          0.\n",
            "   0.          0.          0.          0.          0.          0.\n",
            "   0.          0.          0.          0.          0.          0.\n",
            "   0.          0.          0.          0.          0.          0.\n",
            "   0.          0.          0.          0.          0.          0.\n",
            "   0.        ]\n",
            " [ 0.          0.          0.          0.          0.          0.\n",
            "   0.          0.          0.          0.          0.          0.\n",
            "   0.          0.          0.          0.          0.          0.\n",
            "   0.          0.          0.          0.          0.          0.\n",
            "   0.          0.          0.          0.          0.          0.\n",
            "   0.          0.          0.          0.          0.          0.\n",
            "   0.          0.          0.          0.          0.          0.\n",
            "   0.          0.          0.          0.          0.          0.\n",
            "   0.          0.          0.          0.          0.          0.\n",
            "   0.          0.          0.          0.          0.          0.\n",
            "   0.          0.          0.          0.          0.          0.\n",
            "   0.          0.          0.          0.          0.          0.\n",
            "   0.          0.          0.          0.          0.          0.\n",
            "   0.          0.          0.          0.          0.          0.\n",
            "   0.        ]\n",
            " [-0.09276205 -0.08985079 -0.07608291 -0.05530946 -0.03231258 -0.01211071\n",
            "   0.00080852  0.00313692 -0.00678247 -0.02869592 -0.06052095 -0.09864336\n",
            "  -0.1384954  -0.17518806 -0.20431671 -0.22255981 -0.22819203 -0.22131916\n",
            "  -0.20387241 -0.17923614 -0.15177045 -0.12609152 -0.1063793  -0.09570701\n",
            "  -0.09557988 -0.10568318 -0.12395217 -0.14689077 -0.17011059 -0.18902799\n",
            "  -0.19959717 -0.19891403 -0.1857485  -0.16069391 -0.12614103 -0.08592358\n",
            "  -0.04474724 -0.00750158  0.02150801  0.0391705   0.04407476  0.03669187\n",
            "   0.01933823 -0.00419942 -0.02922969 -0.05085636 -0.06472243 -0.06767898\n",
            "  -0.05825114 -0.0368678  -0.00578963  0.03120213  0.06941139  0.10389435\n",
            "   0.13022606  0.14516165  0.14714178  0.13655022  0.11566809  0.0883866\n",
            "   0.05964747  0.03476927  0.01866437  0.01515595  0.02640921  0.05260544\n",
            "   0.09186162  0.14047642  0.19336142  0.24469149  0.28863894  0.32010343\n",
            "   0.33535487  0.33248343  0.31159913  0.27481392  0.225944    0.17002921\n",
            "   0.11269917  0.05947506  0.01514124 -0.01681553 -0.03456445 -0.0380913\n",
            "  -0.0291009 ]\n",
            " [ 0.01241803 -0.00569839 -0.02801367 -0.05359459 -0.08104797 -0.10851966\n",
            "  -0.13379319 -0.15448279 -0.16826742 -0.17320027 -0.16799938 -0.15227921\n",
            "  -0.12673569 -0.09313222 -0.05422283 -0.01347576  0.02528186  0.05832127\n",
            "   0.08244709  0.09545931  0.09641075  0.08583552  0.0656907   0.03920295\n",
            "   0.01049631 -0.01589401 -0.03554677 -0.04473862 -0.04091731 -0.0230484\n",
            "   0.00821874  0.05053668  0.10010532  0.15206901  0.2010497   0.24171443\n",
            "   0.26942073  0.28069672  0.2736623   0.24824396  0.20617207  0.15082053\n",
            "   0.08683377  0.01960157 -0.04528859 -0.10268976 -0.14839354 -0.17960091\n",
            "  -0.19515903 -0.1956481  -0.18327567 -0.16156722 -0.13492094 -0.10808104\n",
            "  -0.08557384 -0.07114955 -0.06736727 -0.07527035 -0.0942851  -0.12226838\n",
            "  -0.15576918 -0.19040635 -0.22139751 -0.24410465 -0.25457232 -0.25000458\n",
            "  -0.22908469 -0.19217531 -0.14128675 -0.07991302 -0.01264023  0.05527446\n",
            "   0.11845781  0.1719523   0.21171481  0.23496873  0.24047115  0.22856528\n",
            "   0.20111359  0.16122806  0.11293382  0.06073957  0.00915674 -0.03771494\n",
            "  -0.0765598 ]]\n",
            "Dimensions of Y: (305, 85)\n"
          ]
        }
      ]
    },
    {
      "cell_type": "markdown",
      "source": [
        "\n",
        "Note that there are three key variables:\n",
        "* `nt`    = number of time steps that we measure data\n",
        "* `nchan` = number of channels (i.e. electrodes) measured in each time step\n",
        "* `ncur`  = number of currents in the brain that we want to estimate.  \n",
        "\n",
        "Each current comes from one brain region (called a *voxel*) in either the `x`, `y` or `z` direction.  So,\n",
        "\n",
        "    nvoxels = ncur / 3\n",
        "    \n",
        "The components of the `X` and `Y` matrices are:\n",
        "*  `Y[i,k]` = electric field measurement on channel `i` at time `k`\n",
        "*  `X[i,j]` = sensitivity of channel `i` to current `j`.\n",
        "\n"
      ],
      "metadata": {
        "id": "hiJpfr8MgBb1"
      }
    },
    {
      "cell_type": "markdown",
      "source": [
        ">>**2**\\. **(1 Point)** Split the data into training and testing. What split do you use, and why?"
      ],
      "metadata": {
        "id": "yDZtFIjTfxmW"
      }
    },
    {
      "cell_type": "markdown",
      "source": [
        ">> The number of records are relatively less hence using a 70-30 split because it allows having enough data to train the model effectively and having enough data to evaluate its performance accurately.\n",
        "It allows enough data to avoid underfitting (more training data than 60-40 split) and a larger testing set leading to a more reliable evaluation of the model's performance (more testing data than 80-20 split). Hence, 70-30 seems like a reasonable tradeoff.\n",
        "\n",
        "---\n",
        "\n",
        "\n",
        "\n",
        "---\n",
        "\n"
      ],
      "metadata": {
        "id": "WJF7n_tBy4Uv"
      }
    },
    {
      "cell_type": "code",
      "source": [
        "from sklearn.model_selection import train_test_split\n",
        "\n",
        "# Split the data into training and testing sets (e.g., 80% train, 20% test)\n",
        "X_train, X_test, Y_train, Y_test = train_test_split(X, Y, test_size=0.3, random_state=42)\n",
        "\n",
        "# Print the dimensions of the resulting sets\n",
        "print(\"Dimensions of X_train:\", X_train.shape)\n",
        "print(\"Dimensions of X_test:\", X_test.shape)\n",
        "print(\"Dimensions of Y_train:\", Y_train.shape)\n",
        "print(\"Dimensions of Y_test:\", Y_test.shape)\n"
      ],
      "metadata": {
        "id": "JOo5tg-7gD_z",
        "colab": {
          "base_uri": "https://localhost:8080/"
        },
        "outputId": "64ba744f-f8b4-450b-d6ef-db262dbc84f1"
      },
      "execution_count": null,
      "outputs": [
        {
          "output_type": "stream",
          "name": "stdout",
          "text": [
            "Dimensions of X_train: (213, 22494)\n",
            "Dimensions of X_test: (92, 22494)\n",
            "Dimensions of Y_train: (213, 85)\n",
            "Dimensions of Y_test: (92, 85)\n"
          ]
        }
      ]
    },
    {
      "cell_type": "markdown",
      "source": [
        ">>**3**\\. **(3 Points)** Perform linear regression. As a reminder, the optimization for linear regression using ordinary least squares is written below, the data consists of $n$ observations {$x_i$,$y_i$}. Each observation $i$ includes a scalar response $y_i$ and a column vector $x_i$ of $p$ variables (regressors).\n",
        "\n",
        ">>The evaluation metric used for linear regression is the $R^2$ score. Explain what $R^2$ tells us, and interpret your results based on this.*\n",
        "\n"
      ],
      "metadata": {
        "id": "CKEkzFqKzPFJ"
      }
    },
    {
      "cell_type": "markdown",
      "source": [
        "\\begin{align}\n",
        "\\text{Ordinary Least Squares}\n",
        "\\end{align}\n",
        "\n",
        "\n",
        "\n",
        " \\begin{align}\n",
        "        \\underset{\\beta}{\\operatorname{arg min}}\n",
        "        \\left[\\sum_{i=1}^n \\left( y_i - β_o - \\sum_{j=1}^p β_jx_{ij}  \\right)^2  \\right]\n",
        "    \\end{align}\n",
        "\n"
      ],
      "metadata": {
        "id": "LvFX8XmAQVev"
      }
    },
    {
      "cell_type": "code",
      "source": [
        "from sklearn.linear_model import LinearRegression\n",
        "from sklearn.metrics import mean_squared_error, r2_score\n",
        "\n",
        "# Creating a linear regression model\n",
        "model = LinearRegression()\n",
        "\n",
        "# Fitting the model on the training data\n",
        "model.fit(X_train, Y_train)\n",
        "\n",
        "# Predicting  on the test data\n",
        "Y_pred = model.predict(X_test)\n",
        "\n",
        "# Calculate Mean Squared Error and R-squared\n",
        "mse = mean_squared_error(Y_test, Y_pred)\n",
        "r2 = r2_score(Y_test, Y_pred)\n",
        "\n",
        "# Print the evaluation metrics\n",
        "print(\"Mean Squared Error:\", mse)\n",
        "print(\"R-squared:\", r2)\n"
      ],
      "metadata": {
        "id": "FrUITWlpzOfs",
        "colab": {
          "base_uri": "https://localhost:8080/"
        },
        "outputId": "c56806f6-e9ae-41a9-e1e1-534ba423df7b"
      },
      "execution_count": null,
      "outputs": [
        {
          "output_type": "stream",
          "name": "stdout",
          "text": [
            "Mean Squared Error: 0.36566837924686973\n",
            "R-squared: -5.604769832451017\n"
          ]
        }
      ]
    },
    {
      "cell_type": "markdown",
      "source": [
        ">> R-squared value of -5.604769832451017 is below 0, which is highly unusual and suggests that the model is performing very poorly and not fitting the data.\n",
        "Reasons for such low R squared value can be data quality, worse feature engineering . It suggests that the linear regression is not an appropriate model.   \n",
        "\n",
        "We can visualize this using a graph as well."
      ],
      "metadata": {
        "id": "vMtUeI0FzS8B"
      }
    },
    {
      "cell_type": "code",
      "source": [
        "\n",
        "\n",
        "# Create a scatter plot of predicted vs. actual values\n",
        "plt.scatter(Y_test, Y_pred)\n",
        "plt.xlabel(\"Actual values\")\n",
        "plt.ylabel(\"Predicted values\")\n",
        "plt.title(f\"Actual vs. Predicted\")\n",
        "\n",
        "# Plot a diagonal line (y = x) to represent perfect predictions\n",
        "plt.plot(Y_test, Y_test, linestyle='--', color='red')\n",
        "plt.show()"
      ],
      "metadata": {
        "colab": {
          "base_uri": "https://localhost:8080/",
          "height": 472
        },
        "id": "6qCoCOtTS4Ya",
        "outputId": "2561b94e-80bd-4713-b757-3e371b8f58b7"
      },
      "execution_count": null,
      "outputs": [
        {
          "output_type": "display_data",
          "data": {
            "text/plain": [
              "<Figure size 640x480 with 1 Axes>"
            ],
            "image/png": "[encoded data removed]"
          },
          "metadata": {}
        }
      ]
    },
    {
      "cell_type": "markdown",
      "source": [
        "### **Part 1: Ridge Regularization (10 Points)**\n",
        "\n",
        "---\n"
      ],
      "metadata": {
        "id": "Nk4QVvQPUlJl"
      }
    },
    {
      "cell_type": "markdown",
      "source": [
        ">>**1**\\. **(1 Point)** *Now we will use ridge regression, a model tuning method that can be used on data that suffers from multicollinearity. Notice the regularization term added to the optimization below, which uses the squared value of $β$. It is also known as L2 regularization. Regularizations are techniques used to reduce the error by fitting a function appropriately on the given training set and avoid overfitting. First, what is the degree of collinearity in the data? Show your work and give rationale for the degree of collinearity.*\n"
      ],
      "metadata": {
        "id": "GNXMw5bCndxQ"
      }
    },
    {
      "cell_type": "markdown",
      "source": [
        "\\begin{align}\n",
        "\\text{Ridge Regression}\n",
        "\\end{align}\n",
        "\n",
        "\n",
        " \\begin{align}\n",
        "        \\underset{\\beta}{\\operatorname{arg min}}\n",
        "        \\left[\\sum_{i=1}^n \\left( y_i - βo - \\sum_{j=1}^p β_jx_{ij}  \\right)^2 + λ\\sum_{j=1}^p|β_j|^2  \\right]\n",
        "    \\end{align}\n"
      ],
      "metadata": {
        "id": "DEjwWVrrRKGs"
      }
    },
    {
      "cell_type": "code",
      "source": [
        "\n",
        "\n",
        "# Calculate the correlation matrix\n",
        "corr_matrix = np.corrcoef(X, rowvar=False)\n",
        "\n",
        "# Print the correlation matrix\n",
        "print(\"Correlation matrix:\")\n",
        "print(corr_matrix)\n",
        "\n",
        "# Calculate the degree of collinearity (average pairwise correlation)\n",
        "average_correlation = np.mean(corr_matrix)\n",
        "print(\"Average pairwise correlation:\", average_correlation)\n",
        "\n",
        "\n",
        "# Assume you have a correlation matrix, corr_matrix\n",
        "# Replace this with your actual correlation matrix\n",
        "# corr_matrix = ...\n",
        "import numpy as np\n",
        "\n",
        "# Assume you have a correlation matrix, corr_matrix\n",
        "# Replace this with your actual correlation matrix\n",
        "# corr_matrix = ...\n",
        "\n",
        "# Define a correlation threshold (e.g., 0.8 for a high correlation)\n",
        "correlation_threshold = 0.8\n",
        "\n",
        "# Get the shape of the correlation matrix\n",
        "num_features = corr_matrix.shape[0]\n",
        "\n",
        "# Traverse the correlation matrix and identify highly correlated pairs\n",
        "count =0\n",
        "total_pair=0\n",
        "for i in range(num_features):\n",
        "    for j in range(i + 1, num_features):  # Avoid duplicate pairs and the diagonal\n",
        "        total_pair=total_pair+1\n",
        "        correlation = corr_matrix[i, j]\n",
        "        if abs(correlation) > correlation_threshold:\n",
        "            count=count+1\n",
        "\n",
        "            #highly_correlated_pairs.append((i, j, correlation))\n",
        "print(\"Highly correlated pairs :\", count)\n",
        "print(\"Total number pairs:\", total_pair)\n",
        "print(\"Ratio for correlated to total pairs\", count/total_pair)\n"
      ],
      "metadata": {
        "id": "j2C9lClOz1A1",
        "colab": {
          "base_uri": "https://localhost:8080/"
        },
        "outputId": "a9afd995-5698-4d58-aae4-0656c8babbe8"
      },
      "execution_count": null,
      "outputs": [
        {
          "output_type": "stream",
          "name": "stdout",
          "text": [
            "Correlation matrix:\n",
            "[[ 1.00000000e+00 -1.20605536e-01  2.46089091e-02 ... -1.24526025e-02\n",
            "   9.99641812e-03 -6.87705158e-04]\n",
            " [-1.20605536e-01  1.00000000e+00  9.87927891e-01 ... -7.54773972e-04\n",
            "   1.12697803e-02 -1.68804225e-02]\n",
            " [ 2.46089091e-02  9.87927891e-01  1.00000000e+00 ... -3.81560714e-03\n",
            "   1.14015760e-02 -1.49274099e-02]\n",
            " ...\n",
            " [-1.24526025e-02 -7.54773972e-04 -3.81560714e-03 ...  1.00000000e+00\n",
            "  -8.77202829e-01 -2.65394583e-01]\n",
            " [ 9.99641812e-03  1.12697803e-02  1.14015760e-02 ... -8.77202829e-01\n",
            "   1.00000000e+00 -2.15415664e-01]\n",
            " [-6.87705158e-04 -1.68804225e-02 -1.49274099e-02 ... -2.65394583e-01\n",
            "  -2.15415664e-01  1.00000000e+00]]\n",
            "Average pairwise correlation: 0.006595909879295234\n",
            "Highly correlated pairs : 1418684\n",
            "Total number pairs: 252978771\n",
            "Ratio for correlated to total pairs 0.005607917195549978\n"
          ]
        }
      ]
    },
    {
      "cell_type": "markdown",
      "source": [
        ">> The ratio shows that there is 0.56% of the pairs are highly correlated suggests that there is a relatively low degree of correlation among the pairs of variables.\n",
        "This could also mean dataset doesn't suffer from strong multicollinearity.\n",
        "\n",
        "\n",
        "\n",
        "\n"
      ],
      "metadata": {
        "id": "UjsFtPFdz8Bm"
      }
    },
    {
      "cell_type": "markdown",
      "source": [
        ">>**1b**\\. **(2 Points)** *Now implement ridge regression using sklearn. Start with the default alpha value, and print the $R^2$ score*"
      ],
      "metadata": {
        "id": "uv3A1LH5zs-c"
      }
    },
    {
      "cell_type": "code",
      "source": [
        "# Write your code here\n",
        "from sklearn.linear_model import Ridge\n",
        "from sklearn.metrics import r2_score\n",
        "\n",
        "# Create a Ridge regression model with default alpha\n",
        "ridge_model = Ridge()\n",
        "\n",
        "# Fit the model on the training data\n",
        "ridge_model.fit(X_train, Y_train)\n",
        "\n",
        "# Predict on the test data\n",
        "Y_pred_ridge = ridge_model.predict(X_test)\n",
        "\n",
        "# Calculate R-squared for Ridge Regression\n",
        "r2_ridge = r2_score(Y_test, Y_pred_ridge)\n",
        "\n",
        "# Print the R-squared for Ridge Regression\n",
        "print(\"R-squared (Ridge):\", r2_ridge)\n",
        "\n"
      ],
      "metadata": {
        "id": "51vepf1Ci1Ou",
        "colab": {
          "base_uri": "https://localhost:8080/"
        },
        "outputId": "16ca10e7-7653-4a54-8a32-221af2a99976"
      },
      "execution_count": null,
      "outputs": [
        {
          "output_type": "stream",
          "name": "stdout",
          "text": [
            "R-squared (Ridge): 0.1758544493420293\n"
          ]
        }
      ]
    },
    {
      "cell_type": "markdown",
      "source": [
        ">>**2**\\. **(5 Points)** *Now we will look at what happens when varying the parameter. Try 10 different values for alpha and print the alpha value with corresponding $R^2$ score using Cross-Validation for training data. Describe how you pick the range of alpha values to examine.*\n",
        "\n"
      ],
      "metadata": {
        "id": "SM2On6G0oTvo"
      }
    },
    {
      "cell_type": "markdown",
      "source": [
        ">>\n",
        "\n",
        "*   For a suitable range of alpha values, using a logarithmic scale to explore a wide range of possibilities, from very small values to relatively large ones. (gradually increasing)\n",
        "* We using np.logspace(-3, 3, 10) to generate 10 alpha values evenly distributed on a logarithmic scale  \n",
        "* Alpha value is a hyperparamater that controls regularization strength, dealing with complexity and trade-offs between fitting and keeping the model simple\n",
        "\n"
      ],
      "metadata": {
        "id": "QW1IJFuE0jWr"
      }
    },
    {
      "cell_type": "code",
      "source": [
        "import numpy as np\n",
        "from sklearn.model_selection import cross_val_score\n",
        "\n",
        "# Define a range of alpha values (logarithmically spaced)\n",
        "alpha_values = np.logspace(-3, 3, 10)\n",
        "\n",
        "# Dictionary to store alpha and corresponding R-squared scores\n",
        "alpha_r2_scores = {}\n",
        "\n",
        "# Iterate through alpha values and calculate R-squared using cross-validation\n",
        "for alpha in alpha_values:\n",
        "    ridge_model = Ridge(alpha=alpha)\n",
        "    # Perform cross-validation and calculate R-squared scores\n",
        "    r2_scores = cross_val_score(ridge_model, X_train, Y_train, cv=5)\n",
        "    # Store the mean R-squared score for this alpha\n",
        "    alpha_r2_scores[alpha] = np.mean(r2_scores)\n",
        "\n",
        "# Print alpha values with corresponding R-squared scores\n",
        "print(\"Alpha\\t\\tR-squared\")\n",
        "for alpha, r2_score in alpha_r2_scores.items():\n",
        "    print(f\"{alpha:.6f}\\t{r2_score:.6f}\")\n"
      ],
      "metadata": {
        "id": "crILa9Jji124",
        "colab": {
          "base_uri": "https://localhost:8080/"
        },
        "outputId": "e57c9dc4-91f1-4856-d982-d06b7f62a473"
      },
      "execution_count": null,
      "outputs": [
        {
          "output_type": "stream",
          "name": "stdout",
          "text": [
            "Alpha\t\tR-squared\n",
            "0.001000\t-1.959449\n",
            "0.004642\t-1.024188\n",
            "0.021544\t-0.371937\n",
            "0.100000\t-0.006694\n",
            "0.464159\t0.093875\n",
            "2.154435\t0.055466\n",
            "10.000000\t0.016876\n",
            "46.415888\t-0.008497\n",
            "215.443469\t-0.019152\n",
            "1000.000000\t-0.022006\n"
          ]
        }
      ]
    },
    {
      "cell_type": "markdown",
      "source": [
        ">>**3**\\. **(2 Points)** What is the highest $R^2$ you can achieve?"
      ],
      "metadata": {
        "id": "LiNCKowIpao5"
      }
    },
    {
      "cell_type": "code",
      "source": [
        "\n",
        "# Find the alpha with the highest R-squared score\n",
        "best_alpha = max(alpha_r2_scores, key=alpha_r2_scores.get)\n",
        "highest_r2_score = alpha_r2_scores[best_alpha]\n",
        "\n",
        "# Print the highest R-squared score and corresponding alpha\n",
        "print(\"Highest R-squared:\", highest_r2_score)\n",
        "print(\"Corresponding Alpha:\", best_alpha)\n"
      ],
      "metadata": {
        "id": "7LhADmsWkEde",
        "colab": {
          "base_uri": "https://localhost:8080/"
        },
        "outputId": "adc52579-9cd4-4cfb-ab28-cdf6cb71cb17"
      },
      "execution_count": null,
      "outputs": [
        {
          "output_type": "stream",
          "name": "stdout",
          "text": [
            "Highest R-squared: 0.09387532704932867\n",
            "Corresponding Alpha: 0.46415888336127775\n"
          ]
        }
      ]
    },
    {
      "cell_type": "markdown",
      "source": [
        "Plotting a graph for various alphas and corresponding R squared values"
      ],
      "metadata": {
        "id": "igGChcGAfbgN"
      }
    },
    {
      "cell_type": "code",
      "source": [
        "alphas = list(alpha_r2_scores.keys())\n",
        "r2_scores = list(alpha_r2_scores.values())\n",
        "\n",
        "# Plot the R-squared scores against alpha values\n",
        "plt.figure(figsize=(10, 6))\n",
        "plt.semilogx(alphas, r2_scores, marker='o')\n",
        "plt.xlabel('Alpha (Regularization Parameter)')\n",
        "plt.ylabel('R-squared')\n",
        "plt.title('R-squared vs. Alpha for Ridge Regression')\n",
        "plt.grid(True)\n",
        "plt.show()"
      ],
      "metadata": {
        "colab": {
          "base_uri": "https://localhost:8080/",
          "height": 569
        },
        "id": "jANP8iqrfGGd",
        "outputId": "7561e016-bb91-44d1-ee18-ac92029a32f1"
      },
      "execution_count": null,
      "outputs": [
        {
          "output_type": "display_data",
          "data": {
            "text/plain": [
              "<Figure size 1000x600 with 1 Axes>"
            ],
            "image/png": "[encoded data removed]"
          },
          "metadata": {}
        }
      ]
    },
    {
      "cell_type": "markdown",
      "source": [
        "### **Part 2: Lasso Regularization (12 Points)**\n",
        "\n",
        "---\n"
      ],
      "metadata": {
        "id": "IPgtwSADUlGf"
      }
    },
    {
      "cell_type": "markdown",
      "source": [
        ">>**1**\\. **(3 Points)** *Another method often used to improve performance is Lasso regularization. Lasso regression improves performance by using shrinkage, where data values are shrunk towards a central point, like the mean. Lasso regression performs L1 regularization, which adds a penalty equal to the absolute value of the magnitude of coefficients. This can result in sparse models with few coefficients (many coefficients can -> 0 and are eliminated from the model). Implement this using sklearn with default parameter values and print the $R^2$ score*"
      ],
      "metadata": {
        "id": "TGFMIM1UqaBV"
      }
    },
    {
      "cell_type": "markdown",
      "source": [
        " \\begin{align}\n",
        "\\text{LASSO Regression}\n",
        "\\end{align}\n",
        "\n",
        "\n",
        "\n",
        " \\begin{align}\n",
        "        \\underset{\\beta}{\\operatorname{arg min}}\n",
        "        \\left[\\sum_{i=1}^n \\left( y_i - βo - \\sum_{j=1}^p β_jx_ij  \\right)^2 + λ\\sum_{j=1}^p|β_j|  \\right]\n",
        "    \\end{align}"
      ],
      "metadata": {
        "id": "5KLG8kwzSovn"
      }
    },
    {
      "cell_type": "code",
      "source": [
        "from sklearn.linear_model import Lasso\n",
        "from sklearn.metrics import r2_score\n",
        "\n",
        "# Create a Lasso regression model with default parameters\n",
        "lasso_model = Lasso()\n",
        "\n",
        "# Fit the model on the training data\n",
        "lasso_model.fit(X_train, Y_train)\n",
        "\n",
        "# Predict on the test data\n",
        "Y_pred_lasso = lasso_model.predict(X_test)\n",
        "\n",
        "# Calculate R-squared for Lasso Regression\n",
        "r2_lasso = r2_score(Y_test, Y_pred_lasso)\n",
        "\n",
        "# Print the R-squared for Lasso Regression\n",
        "print(\"R-squared (Lasso):\", r2_lasso)\n"
      ],
      "metadata": {
        "id": "74ofK8tHh92y",
        "colab": {
          "base_uri": "https://localhost:8080/"
        },
        "outputId": "a2b39a5d-9500-49ad-c652-796e70d85326"
      },
      "execution_count": null,
      "outputs": [
        {
          "output_type": "stream",
          "name": "stdout",
          "text": [
            "R-squared (Lasso): -0.02384059850135385\n"
          ]
        }
      ]
    },
    {
      "cell_type": "markdown",
      "source": [
        ">>**2**\\. **(5 Points)** *Try 10 different values for the regularization parameter Alpha and print the alpha value with corresponding $R^2$ score using cross-validation. Again, give your reasoning for the choices of alpha. If you choose to tune any other hyperparameters of the model then justify your reason for it*\n",
        "\n",
        "\n",
        "\n",
        "\n"
      ],
      "metadata": {
        "id": "8rQQ1FbAqfZk"
      }
    },
    {
      "cell_type": "markdown",
      "source": [
        ">>\n",
        "\n",
        "*   Using a logarithmic scale for alpha allows for a wide exploration of regularization strengths, from very small values to relatively large ones.\n",
        "*   Lasso penalizes the absolute size of the coefficients, and varying alpha helps control the amount of shrinkage applied.\n",
        "*  Including very small alpha values (close to 0) allows the Lasso to perform similarly to linear regression, effectively using all features.\n",
        "*  including larger alpha values encourages sparsity, forcing more coefficients to be exactly zero. Larger alpha values strongly penalize the coefficients, reducing the risk of overfitting. (ensuring it doesn't fit noise)\n",
        "\n",
        "*Normalization is important for Lasso regression (if we have the background for the dataset). Normalization allows for a fair and unbiased regularization path. Normalization ensures that all features are on a similar scale, giving them equal importance in the regularization process.*\n",
        "\n",
        "\n"
      ],
      "metadata": {
        "id": "pQJAGHZY4EG2"
      }
    },
    {
      "cell_type": "code",
      "source": [
        "# Write your code here\n",
        "import numpy as np\n",
        "from sklearn.linear_model import LassoCV\n",
        "from sklearn.model_selection import cross_val_score\n",
        "\n",
        "# Define a range of alpha values (logarithmically spaced)\n",
        "alpha_values = np.logspace(-3, 3, 10)\n",
        "\n",
        "# Dictionary to store alpha and corresponding R-squared scores\n",
        "alpha_r2_scores = {}\n",
        "\n",
        "# Iterate through alpha values and calculate R-squared using cross-validation\n",
        "for alpha in alpha_values:\n",
        "    lasso_model = Lasso(alpha=alpha)\n",
        "    # Perform cross-validation and calculate R-squared scores\n",
        "    r2_scores = cross_val_score(lasso_model, X_train, Y_train, cv=5)\n",
        "    # Store the mean R-squared score for this alpha\n",
        "    alpha_r2_scores[alpha] = np.mean(r2_scores)\n",
        "\n",
        "# Print alpha values with corresponding R-squared scores\n",
        "print(\"Alpha\\t\\tR-squared\")\n",
        "for alpha, r2_score in alpha_r2_scores.items():\n",
        "    print(f\"{alpha:.6f}\\t{r2_score:.6f}\")\n"
      ],
      "metadata": {
        "id": "bOD9ReOLit8j",
        "colab": {
          "base_uri": "https://localhost:8080/"
        },
        "outputId": "3f3f5d52-9f33-4244-d15b-ef2dc272bbe1"
      },
      "execution_count": null,
      "outputs": [
        {
          "output_type": "stream",
          "name": "stdout",
          "text": [
            "Alpha\t\tR-squared\n",
            "0.001000\t0.162911\n",
            "0.004642\t-0.022834\n",
            "0.021544\t-0.022834\n",
            "0.100000\t-0.022834\n",
            "0.464159\t-0.022834\n",
            "2.154435\t-0.022834\n",
            "10.000000\t-0.022834\n",
            "46.415888\t-0.022834\n",
            "215.443469\t-0.022834\n",
            "1000.000000\t-0.022834\n"
          ]
        }
      ]
    },
    {
      "cell_type": "code",
      "source": [
        "#Find the alpha with the highest R-squared score\n",
        "best_alpha = max(alpha_r2_scores, key=alpha_r2_scores.get)\n",
        "highest_r2_score = alpha_r2_scores[best_alpha]\n",
        "\n",
        "# Print the highest R-squared score and corresponding alpha\n",
        "print(\"Highest R-squared:\", highest_r2_score)\n",
        "print(\"Corresponding Alpha:\", best_alpha)"
      ],
      "metadata": {
        "colab": {
          "base_uri": "https://localhost:8080/"
        },
        "id": "dkF7_GX0h2le",
        "outputId": "c9e2bd29-187a-46e3-863e-b6a584ac87fa"
      },
      "execution_count": null,
      "outputs": [
        {
          "output_type": "stream",
          "name": "stdout",
          "text": [
            "Highest R-squared: 0.16291087575340657\n",
            "Corresponding Alpha: 0.001\n"
          ]
        }
      ]
    },
    {
      "cell_type": "markdown",
      "source": [
        ">>**3**\\. **(2 Point)** *Plot a graph for different Alpha values and corresponding R^2 score. Explain the shape of the curve.*"
      ],
      "metadata": {
        "id": "Fq0XbNHguSbR"
      }
    },
    {
      "cell_type": "code",
      "source": [
        "\n",
        "# Extract alpha values and corresponding R-squared scores\n",
        "alphas = list(alpha_r2_scores.keys())\n",
        "r2_scores = list(alpha_r2_scores.values())\n",
        "\n",
        "# Plot the R-squared scores against alpha values\n",
        "plt.figure(figsize=(10, 6))\n",
        "plt.semilogx(alphas, r2_scores, marker='o')\n",
        "plt.xlabel('Alpha (Regularization Parameter)')\n",
        "plt.ylabel('R-squared')\n",
        "plt.title('R-squared vs. Alpha for Lasso Regression')\n",
        "plt.grid(True)\n",
        "plt.show()\n",
        "\n"
      ],
      "metadata": {
        "id": "3wiZINHQk8-h",
        "colab": {
          "base_uri": "https://localhost:8080/",
          "height": 569
        },
        "outputId": "befed622-4ade-46b5-a87e-24ebc8d4b60e"
      },
      "execution_count": null,
      "outputs": [
        {
          "output_type": "display_data",
          "data": {
            "text/plain": [
              "<Figure size 1000x600 with 1 Axes>"
            ],
            "image/png": "[encoded data removed]"
          },
          "metadata": {}
        }
      ]
    },
    {
      "cell_type": "markdown",
      "source": [
        ">> The flattening of graph shows that after a certain point shows that when alpha is sufficiently large , it will shrink some of coefficients estimates to 0. The model becomes extremely simple, with very few non-zero coefficients."
      ],
      "metadata": {
        "id": "4s8NtbFd4WVg"
      }
    },
    {
      "cell_type": "markdown",
      "source": [
        ">>**4**\\. **(2 Point)** *Which of the following two methods of Regularization worked better and why?*\n"
      ],
      "metadata": {
        "id": "xdkEoOGbuRNb"
      }
    },
    {
      "cell_type": "markdown",
      "source": [
        ">> Lasso worked better than Ridge Regularization considering the R squared values. This could be due a variety of reasons:\n",
        "* Lasso performs feature selection by driving many feature coefficients to exactly zero. (useful when data has a lot of irrelevant features) and ignores them. Whereas Ridge , only shrinks the coefficients towards 0 but doesn't ignore them completely.\n",
        "* Lasso is more efficient computationally than Ridge, when dealing with high dimensional data\n",
        "* Benefits of feature selection and sparsity by Lasso were prominent even after absence of high collinearity\n"
      ],
      "metadata": {
        "id": "867cDX3areuC"
      }
    },
    {
      "cell_type": "markdown",
      "source": [
        "### **Part 3: Logistic Regression (5 Points)**\n",
        "\n",
        "---\n"
      ],
      "metadata": {
        "id": "VhOIkUtKUpDk"
      }
    },
    {
      "cell_type": "markdown",
      "source": [
        "**1. (1 point)** Now let's consider logistic regression. What is the difference betweeen a linear and logistic regression problem? Explain. (You may take the example of the dataset and task used in this assignment to explain how it would look different for a logistic regression problem)"
      ],
      "metadata": {
        "id": "G8i6VvqmpUN4"
      }
    },
    {
      "cell_type": "markdown",
      "source": [
        ">>\n",
        "* Linear regression is used for continuous target variables, meaning the output can take any numerical value within a given range.\n",
        "* Logistic regression is used for binary classification problems, where the target variable has two possible outcomes, typically denoted as 0 and 1 (or \"negative\" and \"positive\"). Logistic regression models the probability that a given input belongs to a certain class.\n",
        "\n",
        "Predicting whether a certain EEG pattern indicates a specific brain activity (e.g., a seizure), it would be a binary classification problem suitable for logistic regression. The predicted values would represent the probability of the EEG pattern belonging to the seizure class (1) or not (0).\n",
        "\n",
        "But,  predicting the actual EEG measurement values based on various features, it would be a linear regression problem. The predicted values would be continuous and could take any real number.\n",
        "\n"
      ],
      "metadata": {
        "id": "vvwrLflUpXgQ"
      }
    },
    {
      "cell_type": "markdown",
      "source": [
        "**2. (1 point )** Following your answer in the previous question, convert the dataset such that for the same outcome prediction task, a logistic regression is suitable."
      ],
      "metadata": {
        "id": "Fl7oTpmzpepi"
      }
    },
    {
      "cell_type": "code",
      "execution_count": null,
      "metadata": {
        "id": "Qa-oc14pUevH"
      },
      "outputs": [],
      "source": [
        "# place your code here\n",
        "threshold = 0.5  # Set an appropriate threshold based on your dataset\n",
        "\n",
        "# Convert amplitude to binary labels (0 for no seizure, 1 for seizure)\n",
        "Y_binary = (Y > threshold).astype(int)\n",
        "\n",
        "# Split the dataset into training and testing sets\n",
        "X_train, X_test, Y_train, Y_test = train_test_split(X, Y_binary, test_size=0.2, random_state=42)"
      ]
    },
    {
      "cell_type": "markdown",
      "source": [
        "**3. (1 point)** Split this new dataset into training and testing with a 2:1 split. Implement logistic regression."
      ],
      "metadata": {
        "id": "rK_yMcwjpk8h"
      }
    },
    {
      "cell_type": "code",
      "source": [
        "from sklearn.linear_model import LogisticRegression\n",
        "from sklearn.metrics import accuracy_score, confusion_matrix, classification_report\n",
        "\n",
        "# Split the transformed dataset into training and testing sets (2:1 split)\n",
        "X_train, X_test, Y_train, Y_test = train_test_split(X, Y_binary, test_size=0.33, random_state=42)\n",
        "\n",
        "# Assuming Y_train is a 2D array with shape (204, 85)\n",
        "# Reshape to a 1D array by considering any seizure occurrence as 1 and no seizure as 0\n",
        "Y_train_1d = (Y_train.sum(axis=1) > 0).astype(int)\n",
        "\n",
        "# Now Y_train_1d should be a 1D array of binary labels (0 or 1)\n",
        "\n",
        "# Create and train a logistic regression model\n",
        "logistic_model = LogisticRegression()\n",
        "logistic_model.fit(X_train, Y_train_1d)\n",
        "\n",
        "# Predict on the test data\n",
        "Y_pred = logistic_model.predict(X_test)\n",
        "\n",
        "# Ensure Y_test is a 1D binary array\n",
        "Y_test_1d = (Y_test.sum(axis=1) > 0).astype(int)\n",
        "\n",
        "# Calculate accuracy on the test data\n",
        "accuracy = accuracy_score(Y_test_1d, Y_pred)\n",
        "\n",
        "# Print the accuracy\n",
        "print(\"Accuracy:\", accuracy)\n",
        "\n",
        "# Print confusion matrix and classification report\n",
        "print(\"Confusion Matrix:\\n\", confusion_matrix(Y_test_1d, Y_pred))\n",
        "print(\"\\nClassification Report:\\n\", classification_report(Y_test_1d, Y_pred))\n"
      ],
      "metadata": {
        "colab": {
          "base_uri": "https://localhost:8080/"
        },
        "id": "utF5c48WpcyO",
        "outputId": "23da6d09-5069-4e9c-ca7f-0a71ded84051"
      },
      "execution_count": null,
      "outputs": [
        {
          "output_type": "stream",
          "name": "stdout",
          "text": [
            "Accuracy: 0.8415841584158416\n",
            "Confusion Matrix:\n",
            " [[85  1]\n",
            " [15  0]]\n",
            "\n",
            "Classification Report:\n",
            "               precision    recall  f1-score   support\n",
            "\n",
            "           0       0.85      0.99      0.91        86\n",
            "           1       0.00      0.00      0.00        15\n",
            "\n",
            "    accuracy                           0.84       101\n",
            "   macro avg       0.42      0.49      0.46       101\n",
            "weighted avg       0.72      0.84      0.78       101\n",
            "\n"
          ]
        }
      ]
    },
    {
      "cell_type": "markdown",
      "source": [
        "**4. (2 point)** Report the performance of the model on the test data using accuracy. Also plot the confusion matrix and ROC-AUC curve. What can you infer from this confusion matrix? Also can you compare the logistic and linear regressions?"
      ],
      "metadata": {
        "id": "sjlQWqtkpq5b"
      }
    },
    {
      "cell_type": "code",
      "source": [
        "import matplotlib.pyplot as plt\n",
        "from sklearn.metrics import roc_curve, roc_auc_score\n",
        "\n",
        "# Function to plot ROC-AUC curve\n",
        "def plot_roc_curve(y_true, y_probs):\n",
        "    fpr, tpr, _ = roc_curve(y_true, y_probs)\n",
        "    roc_auc = roc_auc_score(y_true, y_probs)\n",
        "\n",
        "    plt.figure()\n",
        "    plt.plot(fpr, tpr, color='darkorange', lw=2, label='ROC curve (area = {:.2f})'.format(roc_auc))\n",
        "    plt.plot([0, 1], [0, 1], color='navy', lw=2, linestyle='--')\n",
        "    plt.xlim([0.0, 1.0])\n",
        "    plt.ylim([0.0, 1.05])\n",
        "    plt.xlabel('False Positive Rate')\n",
        "    plt.ylabel('True Positive Rate')\n",
        "    plt.title('Receiver Operating Characteristic')\n",
        "    plt.legend(loc=\"lower right\")\n",
        "    plt.show()\n",
        "\n",
        "# Plot Confusion Matrix\n",
        "conf_matrix = confusion_matrix(Y_test_1d, Y_pred)\n",
        "plt.figure(figsize=(6, 6))\n",
        "plt.imshow(conf_matrix, interpolation='nearest', cmap=plt.cm.Blues)\n",
        "plt.title('Confusion Matrix')\n",
        "plt.colorbar()\n",
        "\n",
        "classes = ['No Seizure', 'Seizure']\n",
        "tick_marks = np.arange(len(classes))\n",
        "plt.xticks(tick_marks, classes, rotation=45)\n",
        "plt.yticks(tick_marks, classes)\n",
        "\n",
        "for i in range(conf_matrix.shape[0]):\n",
        "    for j in range(conf_matrix.shape[1]):\n",
        "        plt.text(j, i, format(conf_matrix[i, j], 'd'), ha='center', va='center', color='white' if conf_matrix[i, j] > conf_matrix.max() / 2 else 'black')\n",
        "\n",
        "plt.ylabel('True label')\n",
        "plt.xlabel('Predicted label')\n",
        "plt.show()\n",
        "\n",
        "# Plot ROC-AUC curve\n",
        "# Assume Y_probs is the predicted probabilities of positive class\n",
        "Y_probs = logistic_model.predict_proba(X_test)[:, 1]\n",
        "plot_roc_curve(Y_test_1d, Y_probs)\n",
        "\n"
      ],
      "metadata": {
        "id": "K-qivTOXpu4a",
        "colab": {
          "base_uri": "https://localhost:8080/",
          "height": 1000
        },
        "outputId": "69b7f946-bdb3-407c-de18-58aef32f5e19"
      },
      "execution_count": null,
      "outputs": [
        {
          "output_type": "display_data",
          "data": {
            "text/plain": [
              "<Figure size 600x600 with 2 Axes>"
            ],
            "image/png": "[encoded data removed]"
          },
          "metadata": {}
        },
        {
          "output_type": "display_data",
          "data": {
            "text/plain": [
              "<Figure size 640x480 with 1 Axes>"
            ],
            "image/png": "[encoded data removed]"
          },
          "metadata": {}
        }
      ]
    },
    {
      "cell_type": "markdown",
      "source": [
        ">> Confusion matrix shows that it predicts true positive for most of the cases, thus the high accuracy.\n",
        "Logistic regression is specifically suited for binary classification problems, aiming to model the probability of a sample belonging to a certain class.\n",
        "Linear regression, on the other hand, is used for regression problems, predicting continuous numerical values."
      ],
      "metadata": {
        "id": "K2faqHxyrolD"
      }
    }
  ]
}